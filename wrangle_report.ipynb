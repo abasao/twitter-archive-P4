{
 "cells": [
  {
   "cell_type": "markdown",
   "metadata": {},
   "source": [
    "## Wragle Report\n"
   ]
  },
  {
   "cell_type": "markdown",
   "metadata": {},
   "source": [
    "### Gather\n",
    "\n",
    "**WeRateDogs Twitter archive**\n",
    "  \n",
    "This file contains the tweets from WeRateDogs, with names, dog stages and more data provided.\n",
    "- Manually download the `twitter_archive_enhanced.csv` file from Udacity.\n",
    "- Read into DataFrame using Pandas `read_csv` method.\n",
    "\n",
    "**Tweet image predictions**\n",
    "  \n",
    "This file gives us information about the breed according to a neural network.\n",
    "- Using `request library` we get `image_predictions.tsv` and store it in data folder.\n",
    "- Read into DataFrame using Pandas `read_csv` method, with `sep='\\tab'`.\n",
    "\n",
    "**Additional data from the Twitter API**\n",
    "  \n",
    "With this we will have favorites and retweets for each tweet.\n",
    "- Use `tweepy` to access twitters API we get and save tweets to `tweet_json.txt`.\n",
    "- Use `json` library we use json.loads to read text into dict.\n",
    "- Use Pandas DataFrame to turn this object into df.\n",
    "\n",
    "### Assess\n",
    "\n",
    "\n",
    "- None being string rather than registering as NaN in the DataFrame\n",
    "- Names being wrong with names like: a, an, very etc.\n",
    "- Outliers in ratings, sometimes as a joke, other times wrongly gathered.\n",
    "- Ratings with high numerator and denominator for groups of dogs.\n",
    "- Retweets of old tweets, we don't want repeat data.\n",
    "- Column names not being meaningful or shared across datasets.\n",
    "- Broken urls, some None and others are multiple links separated by comma.\n",
    "- Stage columns are values in columns with `doggo`, `pupper`, `puppo` being column names.\n",
    "- Data for dogs and tweet data are mixed.\n",
    "\n",
    "### Clean\n",
    "  \n",
    "**Quality**\n",
    "- Turn None string into python None type.\n",
    "- Correct some individual names we found, and remove the 'a' and 'an' names.\n",
    "- Fix or remove rating outliers, readjust the ratings for groups of dogs by setting denom at 10 and getting the mean for each dog.\n",
    "- Remove retweets.\n",
    "- Change column names to make them meaningful.\n",
    "- Fix urls by replacing None with twitter links to the tweet and splitting and keeping the correct urls.\n",
    "\n",
    "**Tidy**\n",
    "- Fix stages by making it into a columns, if multiple stages in one tweet we don't register them.\n",
    "- Separate the data into two tables `dog_table` and `tweet_table` each having `tweet_id` as key to connect the tables.\n",
    "\n",
    "**We store these tables into `dogs_master.csv` and `tweet_master.csv` and will now use them for analysis.**\n"
   ]
  }
 ],
 "metadata": {
  "kernelspec": {
   "display_name": "Python 3 (ipykernel)",
   "language": "python",
   "name": "python3"
  },
  "language_info": {
   "codemirror_mode": {
    "name": "ipython",
    "version": 3
   },
   "file_extension": ".py",
   "mimetype": "text/x-python",
   "name": "python",
   "nbconvert_exporter": "python",
   "pygments_lexer": "ipython3",
   "version": "3.8.12"
  }
 },
 "nbformat": 4,
 "nbformat_minor": 2
}
